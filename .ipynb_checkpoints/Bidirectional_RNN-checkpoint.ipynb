{
 "cells": [
  {
   "cell_type": "code",
   "execution_count": 1,
   "metadata": {},
   "outputs": [
    {
     "name": "stdout",
     "output_type": "stream",
     "text": [
      "1 Physical GPUs, 1 Logical GPUs\n"
     ]
    }
   ],
   "source": [
    "import tensorflow as tf\n",
    "import pandas as pd\n",
    "import re\n",
    "import numpy as np\n",
    "import os\n",
    "import time\n",
    "from sklearn.model_selection import train_test_split\n",
    "gpus = tf.config.experimental.list_physical_devices('GPU')\n",
    "if gpus:\n",
    "    try:\n",
    "        # Restrict TensorFlow to only use the first GPU\n",
    "        tf.config.experimental.set_visible_devices(gpus[0], 'GPU')\n",
    "\n",
    "        # Currently, memory growth needs to be the same across GPUs\n",
    "        for gpu in gpus:\n",
    "            tf.config.experimental.set_memory_growth(gpu, True)\n",
    "        logical_gpus = tf.config.experimental.list_logical_devices('GPU')\n",
    "        print(len(gpus), \"Physical GPUs,\", len(logical_gpus), \"Logical GPUs\")\n",
    "    except RuntimeError as e:\n",
    "        # Memory growth must be set before GPUs have been initialized\n",
    "        print(e)"
   ]
  },
  {
   "cell_type": "code",
   "execution_count": 2,
   "metadata": {},
   "outputs": [],
   "source": [
    "# load the dataset\n",
    "emotions = pd.read_csv(\"./data/emotion.csv\")"
   ]
  },
  {
   "cell_type": "code",
   "execution_count": 3,
   "metadata": {
    "scrolled": true
   },
   "outputs": [
    {
     "data": {
      "text/html": [
       "<div>\n",
       "<style scoped>\n",
       "    .dataframe tbody tr th:only-of-type {\n",
       "        vertical-align: middle;\n",
       "    }\n",
       "\n",
       "    .dataframe tbody tr th {\n",
       "        vertical-align: top;\n",
       "    }\n",
       "\n",
       "    .dataframe thead th {\n",
       "        text-align: right;\n",
       "    }\n",
       "</style>\n",
       "<table border=\"1\" class=\"dataframe\">\n",
       "  <thead>\n",
       "    <tr style=\"text-align: right;\">\n",
       "      <th></th>\n",
       "      <th>tweet_id</th>\n",
       "      <th>emotion</th>\n",
       "    </tr>\n",
       "  </thead>\n",
       "  <tbody>\n",
       "    <tr>\n",
       "      <th>0</th>\n",
       "      <td>0x3140b1</td>\n",
       "      <td>sadness</td>\n",
       "    </tr>\n",
       "    <tr>\n",
       "      <th>1</th>\n",
       "      <td>0x368b73</td>\n",
       "      <td>disgust</td>\n",
       "    </tr>\n",
       "    <tr>\n",
       "      <th>2</th>\n",
       "      <td>0x296183</td>\n",
       "      <td>anticipation</td>\n",
       "    </tr>\n",
       "    <tr>\n",
       "      <th>3</th>\n",
       "      <td>0x2bd6e1</td>\n",
       "      <td>joy</td>\n",
       "    </tr>\n",
       "    <tr>\n",
       "      <th>4</th>\n",
       "      <td>0x2ee1dd</td>\n",
       "      <td>anticipation</td>\n",
       "    </tr>\n",
       "  </tbody>\n",
       "</table>\n",
       "</div>"
      ],
      "text/plain": [
       "   tweet_id       emotion\n",
       "0  0x3140b1       sadness\n",
       "1  0x368b73       disgust\n",
       "2  0x296183  anticipation\n",
       "3  0x2bd6e1           joy\n",
       "4  0x2ee1dd  anticipation"
      ]
     },
     "execution_count": 3,
     "metadata": {},
     "output_type": "execute_result"
    }
   ],
   "source": [
    "# check if there is any null value in the dataset\n",
    "emotions.head()"
   ]
  },
  {
   "cell_type": "code",
   "execution_count": 4,
   "metadata": {},
   "outputs": [
    {
     "data": {
      "text/plain": [
       "1455563"
      ]
     },
     "execution_count": 4,
     "metadata": {},
     "output_type": "execute_result"
    }
   ],
   "source": [
    "len(emotions)"
   ]
  },
  {
   "cell_type": "code",
   "execution_count": 5,
   "metadata": {
    "scrolled": false
   },
   "outputs": [],
   "source": [
    "idf = pd.read_csv('./data/data_identification.csv')"
   ]
  },
  {
   "cell_type": "code",
   "execution_count": 6,
   "metadata": {},
   "outputs": [
    {
     "data": {
      "text/plain": [
       "1867535"
      ]
     },
     "execution_count": 6,
     "metadata": {},
     "output_type": "execute_result"
    }
   ],
   "source": [
    "len(idf)"
   ]
  },
  {
   "cell_type": "code",
   "execution_count": 7,
   "metadata": {},
   "outputs": [],
   "source": [
    "tweets = pd.read_json(\"./data/tweets_DM.json\", lines=True)"
   ]
  },
  {
   "cell_type": "code",
   "execution_count": 8,
   "metadata": {
    "scrolled": false
   },
   "outputs": [
    {
     "name": "stdout",
     "output_type": "stream",
     "text": [
      "# of records in tweets_DM: 1867535\n"
     ]
    },
    {
     "data": {
      "text/html": [
       "<div>\n",
       "<style scoped>\n",
       "    .dataframe tbody tr th:only-of-type {\n",
       "        vertical-align: middle;\n",
       "    }\n",
       "\n",
       "    .dataframe tbody tr th {\n",
       "        vertical-align: top;\n",
       "    }\n",
       "\n",
       "    .dataframe thead th {\n",
       "        text-align: right;\n",
       "    }\n",
       "</style>\n",
       "<table border=\"1\" class=\"dataframe\">\n",
       "  <thead>\n",
       "    <tr style=\"text-align: right;\">\n",
       "      <th></th>\n",
       "      <th>_score</th>\n",
       "      <th>_index</th>\n",
       "      <th>_source</th>\n",
       "      <th>_crawldate</th>\n",
       "      <th>_type</th>\n",
       "    </tr>\n",
       "  </thead>\n",
       "  <tbody>\n",
       "    <tr>\n",
       "      <th>0</th>\n",
       "      <td>391</td>\n",
       "      <td>hashtag_tweets</td>\n",
       "      <td>{'tweet': {'hashtags': ['Snapchat'], 'tweet_id...</td>\n",
       "      <td>2015-05-23 11:42:47</td>\n",
       "      <td>tweets</td>\n",
       "    </tr>\n",
       "    <tr>\n",
       "      <th>1</th>\n",
       "      <td>433</td>\n",
       "      <td>hashtag_tweets</td>\n",
       "      <td>{'tweet': {'hashtags': ['freepress', 'TrumpLeg...</td>\n",
       "      <td>2016-01-28 04:52:09</td>\n",
       "      <td>tweets</td>\n",
       "    </tr>\n",
       "    <tr>\n",
       "      <th>2</th>\n",
       "      <td>232</td>\n",
       "      <td>hashtag_tweets</td>\n",
       "      <td>{'tweet': {'hashtags': ['bibleverse'], 'tweet_...</td>\n",
       "      <td>2017-12-25 04:39:20</td>\n",
       "      <td>tweets</td>\n",
       "    </tr>\n",
       "    <tr>\n",
       "      <th>3</th>\n",
       "      <td>376</td>\n",
       "      <td>hashtag_tweets</td>\n",
       "      <td>{'tweet': {'hashtags': [], 'tweet_id': '0x1cd5...</td>\n",
       "      <td>2016-01-24 23:53:05</td>\n",
       "      <td>tweets</td>\n",
       "    </tr>\n",
       "    <tr>\n",
       "      <th>4</th>\n",
       "      <td>989</td>\n",
       "      <td>hashtag_tweets</td>\n",
       "      <td>{'tweet': {'hashtags': [], 'tweet_id': '0x2de2...</td>\n",
       "      <td>2016-01-08 17:18:59</td>\n",
       "      <td>tweets</td>\n",
       "    </tr>\n",
       "  </tbody>\n",
       "</table>\n",
       "</div>"
      ],
      "text/plain": [
       "   _score          _index                                            _source  \\\n",
       "0     391  hashtag_tweets  {'tweet': {'hashtags': ['Snapchat'], 'tweet_id...   \n",
       "1     433  hashtag_tweets  {'tweet': {'hashtags': ['freepress', 'TrumpLeg...   \n",
       "2     232  hashtag_tweets  {'tweet': {'hashtags': ['bibleverse'], 'tweet_...   \n",
       "3     376  hashtag_tweets  {'tweet': {'hashtags': [], 'tweet_id': '0x1cd5...   \n",
       "4     989  hashtag_tweets  {'tweet': {'hashtags': [], 'tweet_id': '0x2de2...   \n",
       "\n",
       "            _crawldate   _type  \n",
       "0  2015-05-23 11:42:47  tweets  \n",
       "1  2016-01-28 04:52:09  tweets  \n",
       "2  2017-12-25 04:39:20  tweets  \n",
       "3  2016-01-24 23:53:05  tweets  \n",
       "4  2016-01-08 17:18:59  tweets  "
      ]
     },
     "metadata": {},
     "output_type": "display_data"
    }
   ],
   "source": [
    "print(f'# of records in tweets_DM: {len(tweets)}')\n",
    "display(tweets.head())"
   ]
  },
  {
   "cell_type": "code",
   "execution_count": 9,
   "metadata": {},
   "outputs": [],
   "source": [
    "# process columns from _source\n",
    "tweets['hashtags'] = tweets['_source'].apply(lambda x: x['tweet']['hashtags'])\n",
    "tweets['tweet_id'] = tweets['_source'].apply(lambda x: x['tweet']['tweet_id'])\n",
    "tweets['text'] = tweets['_source'].apply(lambda x: x['tweet']['text'])"
   ]
  },
  {
   "cell_type": "code",
   "execution_count": 10,
   "metadata": {
    "scrolled": true
   },
   "outputs": [],
   "source": [
    "tweets = tweets.merge(idf, on='tweet_id')"
   ]
  },
  {
   "cell_type": "code",
   "execution_count": 11,
   "metadata": {},
   "outputs": [],
   "source": [
    "# split dataset using identification\n",
    "tweets_train = tweets[tweets['identification'] == 'train']\n",
    "tweets_test = tweets[tweets['identification'] == 'test']"
   ]
  },
  {
   "cell_type": "code",
   "execution_count": 12,
   "metadata": {
    "scrolled": true
   },
   "outputs": [
    {
     "data": {
      "text/plain": [
       "True"
      ]
     },
     "execution_count": 12,
     "metadata": {},
     "output_type": "execute_result"
    }
   ],
   "source": [
    "# checking for dataset length\n",
    "len(tweets) == len(tweets_train) + len(tweets_test)"
   ]
  },
  {
   "cell_type": "code",
   "execution_count": 13,
   "metadata": {},
   "outputs": [],
   "source": [
    "tweets_train = tweets_train.merge(emotions, on='tweet_id')"
   ]
  },
  {
   "cell_type": "code",
   "execution_count": 14,
   "metadata": {},
   "outputs": [
    {
     "data": {
      "text/html": [
       "<div>\n",
       "<style scoped>\n",
       "    .dataframe tbody tr th:only-of-type {\n",
       "        vertical-align: middle;\n",
       "    }\n",
       "\n",
       "    .dataframe tbody tr th {\n",
       "        vertical-align: top;\n",
       "    }\n",
       "\n",
       "    .dataframe thead th {\n",
       "        text-align: right;\n",
       "    }\n",
       "</style>\n",
       "<table border=\"1\" class=\"dataframe\">\n",
       "  <thead>\n",
       "    <tr style=\"text-align: right;\">\n",
       "      <th></th>\n",
       "      <th>_score</th>\n",
       "      <th>_index</th>\n",
       "      <th>_source</th>\n",
       "      <th>_crawldate</th>\n",
       "      <th>_type</th>\n",
       "      <th>hashtags</th>\n",
       "      <th>tweet_id</th>\n",
       "      <th>text</th>\n",
       "      <th>identification</th>\n",
       "      <th>emotion</th>\n",
       "    </tr>\n",
       "  </thead>\n",
       "  <tbody>\n",
       "    <tr>\n",
       "      <th>0</th>\n",
       "      <td>391</td>\n",
       "      <td>hashtag_tweets</td>\n",
       "      <td>{'tweet': {'hashtags': ['Snapchat'], 'tweet_id...</td>\n",
       "      <td>2015-05-23 11:42:47</td>\n",
       "      <td>tweets</td>\n",
       "      <td>[Snapchat]</td>\n",
       "      <td>0x376b20</td>\n",
       "      <td>People who post \"add me on #Snapchat\" must be ...</td>\n",
       "      <td>train</td>\n",
       "      <td>anticipation</td>\n",
       "    </tr>\n",
       "    <tr>\n",
       "      <th>1</th>\n",
       "      <td>433</td>\n",
       "      <td>hashtag_tweets</td>\n",
       "      <td>{'tweet': {'hashtags': ['freepress', 'TrumpLeg...</td>\n",
       "      <td>2016-01-28 04:52:09</td>\n",
       "      <td>tweets</td>\n",
       "      <td>[freepress, TrumpLegacy, CNN]</td>\n",
       "      <td>0x2d5350</td>\n",
       "      <td>@brianklaas As we see, Trump is dangerous to #...</td>\n",
       "      <td>train</td>\n",
       "      <td>sadness</td>\n",
       "    </tr>\n",
       "    <tr>\n",
       "      <th>2</th>\n",
       "      <td>376</td>\n",
       "      <td>hashtag_tweets</td>\n",
       "      <td>{'tweet': {'hashtags': [], 'tweet_id': '0x1cd5...</td>\n",
       "      <td>2016-01-24 23:53:05</td>\n",
       "      <td>tweets</td>\n",
       "      <td>[]</td>\n",
       "      <td>0x1cd5b0</td>\n",
       "      <td>Now ISSA is stalking Tasha 😂😂😂 &lt;LH&gt;</td>\n",
       "      <td>train</td>\n",
       "      <td>fear</td>\n",
       "    </tr>\n",
       "    <tr>\n",
       "      <th>3</th>\n",
       "      <td>120</td>\n",
       "      <td>hashtag_tweets</td>\n",
       "      <td>{'tweet': {'hashtags': ['authentic', 'LaughOut...</td>\n",
       "      <td>2015-06-11 04:44:05</td>\n",
       "      <td>tweets</td>\n",
       "      <td>[authentic, LaughOutLoud]</td>\n",
       "      <td>0x1d755c</td>\n",
       "      <td>@RISKshow @TheKevinAllison Thx for the BEST TI...</td>\n",
       "      <td>train</td>\n",
       "      <td>joy</td>\n",
       "    </tr>\n",
       "    <tr>\n",
       "      <th>4</th>\n",
       "      <td>1021</td>\n",
       "      <td>hashtag_tweets</td>\n",
       "      <td>{'tweet': {'hashtags': [], 'tweet_id': '0x2c91...</td>\n",
       "      <td>2015-08-18 02:30:07</td>\n",
       "      <td>tweets</td>\n",
       "      <td>[]</td>\n",
       "      <td>0x2c91a8</td>\n",
       "      <td>Still waiting on those supplies Liscus. &lt;LH&gt;</td>\n",
       "      <td>train</td>\n",
       "      <td>anticipation</td>\n",
       "    </tr>\n",
       "  </tbody>\n",
       "</table>\n",
       "</div>"
      ],
      "text/plain": [
       "   _score          _index                                            _source  \\\n",
       "0     391  hashtag_tweets  {'tweet': {'hashtags': ['Snapchat'], 'tweet_id...   \n",
       "1     433  hashtag_tweets  {'tweet': {'hashtags': ['freepress', 'TrumpLeg...   \n",
       "2     376  hashtag_tweets  {'tweet': {'hashtags': [], 'tweet_id': '0x1cd5...   \n",
       "3     120  hashtag_tweets  {'tweet': {'hashtags': ['authentic', 'LaughOut...   \n",
       "4    1021  hashtag_tweets  {'tweet': {'hashtags': [], 'tweet_id': '0x2c91...   \n",
       "\n",
       "            _crawldate   _type                       hashtags  tweet_id  \\\n",
       "0  2015-05-23 11:42:47  tweets                     [Snapchat]  0x376b20   \n",
       "1  2016-01-28 04:52:09  tweets  [freepress, TrumpLegacy, CNN]  0x2d5350   \n",
       "2  2016-01-24 23:53:05  tweets                             []  0x1cd5b0   \n",
       "3  2015-06-11 04:44:05  tweets      [authentic, LaughOutLoud]  0x1d755c   \n",
       "4  2015-08-18 02:30:07  tweets                             []  0x2c91a8   \n",
       "\n",
       "                                                text identification  \\\n",
       "0  People who post \"add me on #Snapchat\" must be ...          train   \n",
       "1  @brianklaas As we see, Trump is dangerous to #...          train   \n",
       "2                Now ISSA is stalking Tasha 😂😂😂 <LH>          train   \n",
       "3  @RISKshow @TheKevinAllison Thx for the BEST TI...          train   \n",
       "4       Still waiting on those supplies Liscus. <LH>          train   \n",
       "\n",
       "        emotion  \n",
       "0  anticipation  \n",
       "1       sadness  \n",
       "2          fear  \n",
       "3           joy  \n",
       "4  anticipation  "
      ]
     },
     "execution_count": 14,
     "metadata": {},
     "output_type": "execute_result"
    }
   ],
   "source": [
    "tweets_train.head()"
   ]
  },
  {
   "cell_type": "code",
   "execution_count": 15,
   "metadata": {
    "scrolled": true
   },
   "outputs": [
    {
     "data": {
      "text/plain": [
       "joy             516017\n",
       "anticipation    248935\n",
       "trust           205478\n",
       "sadness         193437\n",
       "disgust         139101\n",
       "fear             63999\n",
       "surprise         48729\n",
       "anger            39867\n",
       "Name: emotion, dtype: int64"
      ]
     },
     "execution_count": 15,
     "metadata": {},
     "output_type": "execute_result"
    }
   ],
   "source": [
    "tweets_train['emotion'].value_counts()"
   ]
  },
  {
   "cell_type": "markdown",
   "metadata": {},
   "source": [
    "###  The class is unbalanced\n",
    "But in final submit, I didn't apply any class balancing to my model, since those tries weren't better.\n",
    "I do try some class balancing technique like upsampling or downsampling the records to make the records feed into the model with a balanced class distribution, or using a weight balancing loss function such as focal loss, but had little help with the preformance."
   ]
  },
  {
   "cell_type": "markdown",
   "metadata": {},
   "source": [
    "### Preprocessing\n",
    "In preprocessing part, I first replace the emojis with readable words, then remove <> tags, punctuations and numbers. \\\n",
    "Since there are lots of emojis in tweets comments, so I use a light weight package `demoji` to help me to this. \\\n",
    "I also use `glove-twitter-100` as a pre-trained Word2vec as word embedding. "
   ]
  },
  {
   "cell_type": "code",
   "execution_count": 168,
   "metadata": {},
   "outputs": [
    {
     "name": "stdout",
     "output_type": "stream",
     "text": [
      "Downloading emoji data ...\n",
      "... OK (Got response in 0.36 seconds)\n",
      "Writing emoji data to /home/hsnl-iot/.demoji/codes.json ...\n",
      "... OK\n"
     ]
    }
   ],
   "source": [
    "import demoji\n",
    "demoji.download_codes()\n",
    "TAG_RE = re.compile(r'<[^>]+>')\n",
    "\n",
    "def remove_tags(text):\n",
    "    return TAG_RE.sub('', text)\n",
    "\n",
    "def preprocess_text(sen):\n",
    "    # Removing html tags\n",
    "    sen = demoji.replace_with_desc(sen)\n",
    "    \n",
    "    sentence = remove_tags(sen)\n",
    "\n",
    "    # Remove punctuations and numbers\n",
    "    sentence = re.sub('[^a-zA-Z]', ' ', sentence)\n",
    "\n",
    "    # Single character removal\n",
    "    sentence = re.sub(r\"\\s+[a-zA-Z]\\s+\", ' ', sentence)\n",
    "\n",
    "    # Removing multiple spaces\n",
    "    sentence = re.sub(r'\\s+', ' ', sentence)\n",
    "\n",
    "    return sentence"
   ]
  },
  {
   "cell_type": "code",
   "execution_count": 185,
   "metadata": {},
   "outputs": [
    {
     "data": {
      "text/plain": [
       "'Love knows no gender. 😢😭 <LH>'"
      ]
     },
     "execution_count": 185,
     "metadata": {},
     "output_type": "execute_result"
    }
   ],
   "source": [
    "tweets_train.loc[5, 'text']"
   ]
  },
  {
   "cell_type": "code",
   "execution_count": 176,
   "metadata": {},
   "outputs": [],
   "source": [
    "from official.nlp import bert\n",
    "gs_folder_bert = \"gs://cloud-tpu-checkpoints/bert/keras_bert/uncased_L-12_H-768_A-12\""
   ]
  },
  {
   "cell_type": "code",
   "execution_count": 182,
   "metadata": {},
   "outputs": [
    {
     "name": "stdout",
     "output_type": "stream",
     "text": [
      "['now', 'iss', '##a', 'is', 'stalking', 'tasha', 'face', 'with', 'tears', 'of', 'joy', 'face', 'with', 'tears', 'of', 'joy', 'face', 'with', 'tears', 'of', 'joy']\n"
     ]
    }
   ],
   "source": [
    "tokenizer = bert.tokenization.FullTokenizer(\n",
    "    vocab_file=os.path.join(gs_folder_bert, \"vocab.txt\"),\n",
    "     do_lower_case=True)\n",
    "tokens = tokenizer.tokenize(preprocess_text(tweets_train.loc[2, 'text']))\n",
    "print(tokens)"
   ]
  },
  {
   "cell_type": "code",
   "execution_count": 186,
   "metadata": {},
   "outputs": [],
   "source": [
    "import nltk\n",
    "tweets_train['text_tokenized'] = tweets_train['text'].apply(lambda x: nltk.word_tokenize(preprocess_text(x)))"
   ]
  },
  {
   "cell_type": "code",
   "execution_count": 187,
   "metadata": {
    "scrolled": true
   },
   "outputs": [
    {
     "data": {
      "text/plain": [
       "0          [People, who, post, add, me, on, Snapchat, mus...\n",
       "1          [brianklaas, As, we, see, Trump, is, dangerous...\n",
       "2          [Now, ISSA, is, stalking, Tasha, face, with, t...\n",
       "3          [RISKshow, TheKevinAllison, Thx, for, the, BES...\n",
       "4              [Still, waiting, on, those, supplies, Liscus]\n",
       "                                 ...                        \n",
       "1455558    [I, SO, HAPPY, NoWonder, the, name, of, this, ...\n",
       "1455559    [In, every, circumtance, d, like, to, be, than...\n",
       "1455560    [there, currently, two, girls, walking, around...\n",
       "1455561    [Ah, corporate, life, where, you, can, date, u...\n",
       "1455562               [Blessed, to, be, living, Sundayvibes]\n",
       "Name: text_tokenized, Length: 1455563, dtype: object"
      ]
     },
     "execution_count": 187,
     "metadata": {},
     "output_type": "execute_result"
    }
   ],
   "source": [
    "tweets_train['text_tokenized']"
   ]
  },
  {
   "cell_type": "code",
   "execution_count": 189,
   "metadata": {},
   "outputs": [
    {
     "data": {
      "text/plain": [
       "'text'"
      ]
     },
     "execution_count": 189,
     "metadata": {},
     "output_type": "execute_result"
    }
   ],
   "source": [
    "'Text'.lower()"
   ]
  },
  {
   "cell_type": "code",
   "execution_count": 190,
   "metadata": {},
   "outputs": [
    {
     "name": "stderr",
     "output_type": "stream",
     "text": [
      "<ipython-input-190-c55a26f85076>:4: DeprecationWarning: Call to deprecated `wv` (Attribute will be removed in 4.0.0, use self instead).\n",
      "  embedding_matrix = np.zeros((len(glove_vectors.wv.vocab.items()) + 1, glove_vectors.vector_size))\n",
      "<ipython-input-190-c55a26f85076>:7: DeprecationWarning: Call to deprecated `wv` (Attribute will be removed in 4.0.0, use self instead).\n",
      "  vocab_list = [(word, glove_vectors.wv[word]) for word, _ in glove_vectors.wv.vocab.items()]\n"
     ]
    }
   ],
   "source": [
    "import gensim.downloader as api\n",
    "glove_vectors = api.load('glove-twitter-100')\n",
    "\n",
    "embedding_matrix = np.zeros((len(glove_vectors.wv.vocab.items()) + 1, glove_vectors.vector_size))\n",
    "word2idx = {}\n",
    "\n",
    "vocab_list = [(word, glove_vectors.wv[word]) for word, _ in glove_vectors.wv.vocab.items()]\n",
    "for i, vocab in enumerate(vocab_list):\n",
    "    word, vec = vocab\n",
    "    embedding_matrix[i + 1] = vec\n",
    "    word2idx[word] = i + 1\n",
    "\n",
    "def text_to_index(corpus):\n",
    "    new_corpus = []\n",
    "    for doc in corpus:\n",
    "        new_doc = []\n",
    "        for word in doc:\n",
    "            try:\n",
    "                new_doc.append(word2idx[word.lower()])\n",
    "            except:\n",
    "                new_doc.append(0)\n",
    "        new_corpus.append(new_doc)\n",
    "    return np.array(new_corpus)\n",
    "\n"
   ]
  },
  {
   "cell_type": "code",
   "execution_count": 191,
   "metadata": {},
   "outputs": [
    {
     "name": "stderr",
     "output_type": "stream",
     "text": [
      "<ipython-input-190-c55a26f85076>:23: VisibleDeprecationWarning: Creating an ndarray from ragged nested sequences (which is a list-or-tuple of lists-or-tuples-or ndarrays with different lengths or shapes) is deprecated. If you meant to do this, you must specify 'dtype=object' when creating the ndarray\n",
      "  return np.array(new_corpus)\n"
     ]
    },
    {
     "name": "stdout",
     "output_type": "stream",
     "text": [
      "Shape: (1455563, 100)\n",
      "Sample: [    0     0     0     0     0     0     0     0     0     0     0     0\n",
      "     0     0     0     0     0     0     0     0     0     0     0     0\n",
      "     0     0     0     0     0     0     0     0     0     0     0     0\n",
      "     0     0     0     0     0     0     0     0     0     0     0     0\n",
      "     0     0     0     0     0     0     0     0     0     0     0     0\n",
      "     0     0     0     0     0     0     0     0     0     0     0     0\n",
      "     0     0     0     0     0     0     0     0     0     0     0     0\n",
      "     0     0     0   131   128  1090  1895    22    47  3717   615    57\n",
      " 58496  1244   247    46]\n"
     ]
    }
   ],
   "source": [
    "max_length = 100\n",
    "X = text_to_index(tweets_train['text_tokenized'])\n",
    "X = tf.keras.preprocessing.sequence.pad_sequences(X, maxlen=max_length)\n",
    "print(\"Shape:\", X.shape)\n",
    "print(\"Sample:\", X[0])"
   ]
  },
  {
   "cell_type": "code",
   "execution_count": 20,
   "metadata": {},
   "outputs": [],
   "source": [
    "from sklearn.preprocessing import LabelEncoder, OneHotEncoder # Incode emotion labels to onehot.\n",
    "label = LabelEncoder()\n",
    "onehot = OneHotEncoder()\n",
    "y = tweets_train['emotion']\n",
    "y = label.fit_transform(y)\n",
    "y = onehot.fit_transform(y.reshape(-1, 1))"
   ]
  },
  {
   "cell_type": "code",
   "execution_count": 192,
   "metadata": {},
   "outputs": [
    {
     "name": "stdout",
     "output_type": "stream",
     "text": [
      "# training data: 1164450\n",
      "# test data: 291113\n"
     ]
    }
   ],
   "source": [
    "# Split the training dataset and test dataset\n",
    "X_train, X_test, y_train, y_test = train_test_split(X, y.toarray(), test_size=0.20, random_state=42)\n",
    "print(\"# training data: {:d}\\n# test data: {:d}\".format(len(X_train), len(X_test)))"
   ]
  },
  {
   "cell_type": "code",
   "execution_count": 22,
   "metadata": {
    "scrolled": true
   },
   "outputs": [],
   "source": [
    "class_counts = tweets_train['emotion'].value_counts()"
   ]
  },
  {
   "cell_type": "code",
   "execution_count": 23,
   "metadata": {},
   "outputs": [],
   "source": [
    "class_counts_1 = 1/tf.cast(class_counts, dtype=tf.float32)\n",
    "CLASS_BALANCED_WEIGHT = class_counts_1/sum(class_counts_1)"
   ]
  },
  {
   "cell_type": "code",
   "execution_count": 24,
   "metadata": {},
   "outputs": [
    {
     "data": {
      "text/plain": [
       "<tf.Tensor: shape=(8,), dtype=float32, numpy=\n",
       "array([0.02295823, 0.04759009, 0.05765502, 0.06124391, 0.08516717,\n",
       "       0.18510975, 0.2431168 , 0.29715902], dtype=float32)>"
      ]
     },
     "execution_count": 24,
     "metadata": {},
     "output_type": "execute_result"
    }
   ],
   "source": [
    "CLASS_BALANCED_WEIGHT"
   ]
  },
  {
   "cell_type": "code",
   "execution_count": 25,
   "metadata": {},
   "outputs": [],
   "source": [
    "classes = label.classes_"
   ]
  },
  {
   "cell_type": "code",
   "execution_count": 193,
   "metadata": {},
   "outputs": [
    {
     "data": {
      "text/plain": [
       "(TensorShape([256, 100]), TensorShape([256, 8]))"
      ]
     },
     "execution_count": 193,
     "metadata": {},
     "output_type": "execute_result"
    }
   ],
   "source": [
    "BUFFER_SIZE = len(X_train)\n",
    "BATCH_SIZE=256\n",
    "steps_per_epoch = len(X_train)//BATCH_SIZE\n",
    "embedding_dim = 256\n",
    "units = 128\n",
    "# only reserve 10000 words\n",
    "vocab_size = 10000\n",
    "\n",
    "\n",
    "dataset = tf.data.Dataset.from_tensor_slices((X_train, y_train))\n",
    "train_dataset = dataset.take(int(len(X_train)*0.9)).shuffle(BUFFER_SIZE).batch(BATCH_SIZE, drop_remainder=True)\n",
    "val_dataset = dataset.skip(int(len(X_train)*0.9)).batch(BATCH_SIZE, drop_remainder=True)\n",
    "\n",
    "\n",
    "test_dataset = tf.data.Dataset.from_tensor_slices((X_test, y_test))\n",
    "test_dataset = test_dataset.batch(BATCH_SIZE, drop_remainder=False)\n",
    "\n",
    "example_input_batch, example_target_batch = next(iter(balanced_ds))\n",
    "example_input_batch.shape, example_target_batch.shape"
   ]
  },
  {
   "cell_type": "code",
   "execution_count": 232,
   "metadata": {},
   "outputs": [
    {
     "data": {
      "text/plain": [
       "100"
      ]
     },
     "execution_count": 232,
     "metadata": {},
     "output_type": "execute_result"
    }
   ],
   "source": [
    "embedding_matrix.shape[1]"
   ]
  },
  {
   "cell_type": "markdown",
   "metadata": {},
   "source": [
    "### Model Design\n",
    "A Self Attention Mechanism from this [github resource](https://github.com/uzaymacar/attention-mechanisms). I used the SelfAttention Class in most of my models. \\\n",
    "The main idea of my model design is a encoder-decoder structure. By encode the sentence to a smaller manifold space, we can findout the mining of the manifold with a decoder, then predict the emotion the comment may be."
   ]
  },
  {
   "cell_type": "code",
   "execution_count": 273,
   "metadata": {
    "scrolled": true
   },
   "outputs": [
    {
     "name": "stdout",
     "output_type": "stream",
     "text": [
      "Encoder output shape: (batch size, sequence length, units) (256, 100, 256)\n",
      "Encoder Hidden state shape: (batch size, units) (256, 256)\n"
     ]
    }
   ],
   "source": [
    "class Encoder(tf.keras.Model):\n",
    "    def __init__(self, embedding_matrix, enc_units, batch_sz):\n",
    "        # vacab_size=10000, embedding_dim=256 enc_units=1024 batch_sz=64\n",
    "        super(Encoder, self).__init__()\n",
    "        self.batch_sz = batch_sz\n",
    "        self.enc_units = enc_units\n",
    "        self.embedding = tf.keras.layers.Embedding(input_dim=embedding_matrix.shape[0],\n",
    "                            output_dim=embedding_matrix.shape[1],\n",
    "                            weights=[embedding_matrix],\n",
    "                            trainable=False)\n",
    "        self.gru = tf.keras.layers.Bidirectional(tf.keras.layers.GRU(self.enc_units,\n",
    "                                       return_sequences=True,\n",
    "                                       return_state=True,\n",
    "                                       recurrent_activation='sigmoid',\n",
    "                                       recurrent_initializer='glorot_uniform'))\n",
    "\n",
    "    def call(self, x, hidden):\n",
    "        # x is the training data with shape == (batch_size，max_length)  -> (128, 100)\n",
    "        # which means there are batch_size sentences in one batch, the length of each sentence is max_length\n",
    "        # hidden state shape == (batch_size, units) -> (128, 1024)\n",
    "        # after embedding, x shape == (batch_size, max_length, embedding_dim) -> (128, 100, 256)\n",
    "        x = self.embedding(x)\n",
    "        \n",
    "        # output contains the state(in GRU, the hidden state and the output are same) from all timestamps,\n",
    "        # output shape == (batch_size, max_length, units) -> (128, 100, 1024)\n",
    "        # state is the hidden state of the last timestamp, shape == (batch_size, units) -> (128, 1024)\n",
    "        output = self.gru(x, initial_state=[hidden]*2)\n",
    "        sequence = output[0]\n",
    "        hidden_state = tf.concat(output[1:], axis=-1)\n",
    "        \n",
    "        return output[0], hidden_state\n",
    "\n",
    "    def initialize_hidden_state(self):\n",
    "        # initialize the first state of the gru,  shape == (batch_size, units) -> (128, 1024)\n",
    "        return tf.zeros((self.batch_sz, self.enc_units))\n",
    "encoder = Encoder(embedding_matrix, units, BATCH_SIZE)\n",
    "\n",
    "# sample input\n",
    "sample_hidden = encoder.initialize_hidden_state()\n",
    "sample_output, sample_hidden = encoder(example_input_batch, sample_hidden)\n",
    "print('Encoder output shape: (batch size, sequence length, units) {}'.format(sample_output.shape))\n",
    "print('Encoder Hidden state shape: (batch size, units) {}'.format(sample_hidden.shape))\n",
    "# the output and the hidden state of GRU is equal\n",
    "#print(sample_output[-1, -1, :] == sample_hidden[-1, :])"
   ]
  },
  {
   "cell_type": "code",
   "execution_count": 30,
   "metadata": {},
   "outputs": [],
   "source": [
    "from tensorflow.keras.layers import Layer, Dense, Flatten, Activation, Permute\n",
    "from tensorflow.keras.layers import Multiply, Lambda, Reshape, Dot, Concatenate, RepeatVector, \\\n",
    "    TimeDistributed, Permute, Bidirectional\n",
    "\n",
    "class SelfAttention(Layer):\n",
    "    \"\"\"\n",
    "    Layer for implementing self-attention mechanism. Weight variables were preferred over Dense()\n",
    "    layers in implementation because they allow easier identification of shapes. Softmax activation\n",
    "    ensures that all weights sum up to 1.\n",
    "    @param (int) size: a.k.a attention length, number of hidden units to decode the attention before\n",
    "           the softmax activation and becoming annotation weights\n",
    "    @param (int) num_hops: number of hops of attention, or number of distinct components to be\n",
    "           extracted from each sentence.\n",
    "    @param (bool) use_penalization: set True to use penalization, otherwise set False\n",
    "    @param (int) penalty_coefficient: the weight of the extra loss\n",
    "    @param (str) model_api: specify to use TF's Sequential OR Functional API, note that attention\n",
    "           weights are not outputted with the former as it only accepts single-output layers\n",
    "    \"\"\"\n",
    "    def __init__(self, size, num_hops=8, use_penalization=True,\n",
    "                 penalty_coefficient=0.1, model_api='functional', **kwargs):\n",
    "        if model_api not in ['sequential', 'functional']:\n",
    "            raise ValueError(\"Argument for param @model_api is not recognized\")\n",
    "        self.size = size\n",
    "        self.num_hops = num_hops\n",
    "        self.use_penalization = use_penalization\n",
    "        self.penalty_coefficient = penalty_coefficient\n",
    "        self.model_api = model_api\n",
    "        super(SelfAttention, self).__init__(**kwargs)\n",
    "\n",
    "    def get_config(self):\n",
    "        base_config = super(SelfAttention, self).get_config()\n",
    "        base_config['size'] = self.size\n",
    "        base_config['num_hops'] = self.num_hops\n",
    "        base_config['use_penalization'] = self.use_penalization\n",
    "        base_config['penalty_coefficient'] = self.penalty_coefficient\n",
    "        base_config['model_api'] = self.model_api\n",
    "        return base_config\n",
    "\n",
    "    def build(self, input_shape):\n",
    "        self.W1 = self.add_weight(name='W1',\n",
    "                                  shape=(self.size, input_shape[2]),                                # (size, H)\n",
    "                                  initializer='glorot_uniform',\n",
    "                                  trainable=True)\n",
    "        self.W2 = self.add_weight(name='W2',\n",
    "                                  shape=(self.num_hops, self.size),                                 # (num_hops, size)\n",
    "                                  initializer='glorot_uniform',\n",
    "                                  trainable=True)\n",
    "        super(SelfAttention, self).build(input_shape)\n",
    "\n",
    "    def call(self, inputs):  # (B, S, H)\n",
    "        # Expand weights to include batch size through implicit broadcasting\n",
    "        W1, W2 = self.W1[None, :, :], self.W2[None, :, :]\n",
    "        hidden_states_transposed = Permute(dims=(2, 1))(inputs)                                     # (B, H, S)\n",
    "        attention_score = tf.matmul(W1, hidden_states_transposed)                                   # (B, size, S)\n",
    "        attention_score = Activation('tanh')(attention_score)                                       # (B, size, S)\n",
    "        attention_weights = tf.matmul(W2, attention_score)                                          # (B, num_hops, S)\n",
    "        attention_weights = Activation('softmax')(attention_weights)                                # (B, num_hops, S)\n",
    "        embedding_matrix = tf.matmul(attention_weights, inputs)                                     # (B, num_hops, H)\n",
    "        embedding_matrix_flattened = Flatten()(embedding_matrix)                                    # (B, num_hops*H)\n",
    "\n",
    "        if self.use_penalization:\n",
    "            attention_weights_transposed = Permute(dims=(2, 1))(attention_weights)                  # (B, S, num_hops)\n",
    "            product = tf.matmul(attention_weights, attention_weights_transposed)                    # (B, num_hops, num_hops)\n",
    "            identity = tf.eye(self.num_hops, batch_shape=(inputs.shape[0],))                        # (B, num_hops, num_hops)\n",
    "            frobenius_norm = tf.sqrt(tf.reduce_sum(tf.square(product - identity)))  # distance\n",
    "            self.add_loss(self.penalty_coefficient * frobenius_norm)  # loss\n",
    "\n",
    "        if self.model_api == 'functional':\n",
    "            return embedding_matrix_flattened, attention_weights\n",
    "        elif self.model_api == 'sequential':\n",
    "            return embedding_matrix_flattened"
   ]
  },
  {
   "cell_type": "markdown",
   "metadata": {},
   "source": [
    "In the decoder, there are two dropout layer with a ratio=0.5 to prevent overfitting."
   ]
  },
  {
   "cell_type": "code",
   "execution_count": 327,
   "metadata": {},
   "outputs": [
    {
     "name": "stdout",
     "output_type": "stream",
     "text": [
      "Decoder output shape: (batch_size, vocab size) (256, 8)\n"
     ]
    }
   ],
   "source": [
    "class Decoder(tf.keras.Model):\n",
    "    def __init__(self, dec_units, batch_sz):\n",
    "        super(Decoder, self).__init__()\n",
    "        self.batch_sz = batch_sz\n",
    "        self.dec_units = dec_units\n",
    "        \n",
    "        # pass through four fully connected layers, the model will return \n",
    "        # the probability of the positivity of the sentence\n",
    "        self.fc_1 = tf.keras.layers.Dense(1024, activation='relu')\n",
    "        self.fc_2 = tf.keras.layers.Dense(512, activation='relu')\n",
    "        self.fc_3 = tf.keras.layers.Dense(128, activation='relu')\n",
    "        self.fc_4 = tf.keras.layers.Dense(64, activation='relu')\n",
    "        self.dp1 = tf.keras.layers.Dropout(0.5)\n",
    "        self.dp2 = tf.keras.layers.Dropout(0.5)\n",
    "        self.fc_5 = tf.keras.layers.Dense(8) # len(classes_)\n",
    "\n",
    "        # used for attention\n",
    "        self.attention = SelfAttention(max_length)\n",
    "\n",
    "    def call(self, enc_output):\n",
    "        history, future = tf.split(enc_output, [self.dec_units]*2, -1)\n",
    "        \n",
    "        context_vector_h, attention_weights = self.attention(history)\n",
    "        context_vector_f, attention_weights_ = self.attention(future)\n",
    "        concat = tf.concat([context_vector_h, context_vector_f], axis=-1)\n",
    "        output = self.fc_1(concat)\n",
    "        output = self.fc_2(output)\n",
    "        output = self.dp1(output)\n",
    "        output = self.fc_3(output)\n",
    "        output = self.dp2(output)\n",
    "        output = self.fc_4(output)\n",
    "        output = self.fc_5(output)\n",
    "\n",
    "        return output, tf.concat([attention_weights, attention_weights_], axis=-1)\n",
    "decoder = Decoder(units, BATCH_SIZE)\n",
    "sample_decoder_output, _ = decoder(sample_output)\n",
    "print('Decoder output shape: (batch_size, vocab size) {}'.format(sample_decoder_output.shape))"
   ]
  },
  {
   "cell_type": "code",
   "execution_count": 328,
   "metadata": {},
   "outputs": [
    {
     "name": "stdout",
     "output_type": "stream",
     "text": [
      "Model: \"decoder_19\"\n",
      "_________________________________________________________________\n",
      "Layer (type)                 Output Shape              Param #   \n",
      "=================================================================\n",
      "dense_77 (Dense)             multiple                  2098176   \n",
      "_________________________________________________________________\n",
      "dense_78 (Dense)             multiple                  524800    \n",
      "_________________________________________________________________\n",
      "dense_79 (Dense)             multiple                  65664     \n",
      "_________________________________________________________________\n",
      "dense_80 (Dense)             multiple                  8256      \n",
      "_________________________________________________________________\n",
      "dropout_31 (Dropout)         multiple                  0         \n",
      "_________________________________________________________________\n",
      "dropout_32 (Dropout)         multiple                  0         \n",
      "_________________________________________________________________\n",
      "dense_81 (Dense)             multiple                  520       \n",
      "_________________________________________________________________\n",
      "self_attention_14 (SelfAtten multiple                  13600     \n",
      "=================================================================\n",
      "Total params: 2,711,016\n",
      "Trainable params: 2,711,016\n",
      "Non-trainable params: 0\n",
      "_________________________________________________________________\n"
     ]
    }
   ],
   "source": [
    "decoder.summary()"
   ]
  },
  {
   "cell_type": "code",
   "execution_count": 337,
   "metadata": {},
   "outputs": [],
   "source": [
    "optimizer = tf.keras.optimizers.Adam(1e-5)\n",
    "loss_object = tf.keras.losses.CategoricalCrossentropy(from_logits=True)\n",
    "\n",
    "def loss_function(real, pred):\n",
    "    loss_ = loss_object(real, pred)\n",
    "    return tf.reduce_mean(loss_)\n",
    "checkpoint_dir = './checkpoints/sentiment-analysis'\n",
    "checkpoint_prefix = os.path.join(checkpoint_dir, \"ckpt\")\n",
    "checkpoint = tf.train.Checkpoint(optimizer=optimizer,\n",
    "                                 encoder=encoder,\n",
    "                                 decoder=decoder)\n",
    "@tf.function\n",
    "def train_step(inp, targ, enc_hidden):\n",
    "    loss = 0\n",
    "\n",
    "    with tf.GradientTape() as tape:\n",
    "        enc_output, enc_hidden = encoder(inp, enc_hidden)\n",
    "\n",
    "        # passing enc_output to the decoder\n",
    "        predictions, _ = decoder(enc_output)\n",
    "\n",
    "        loss = loss_function(targ, predictions)\n",
    "\n",
    "    # collect all trainable variables\n",
    "    variables = encoder.trainable_variables + decoder.trainable_variables\n",
    "\n",
    "    # calculate the gradients for the whole variables\n",
    "    gradients = tape.gradient(loss, variables)\n",
    "\n",
    "    # apply the gradients on the variables\n",
    "    optimizer.apply_gradients(zip(gradients, variables))\n",
    "\n",
    "    return loss, predictions"
   ]
  },
  {
   "cell_type": "code",
   "execution_count": 330,
   "metadata": {
    "scrolled": true
   },
   "outputs": [],
   "source": [
    "len(val_dataset)\n",
    "log = []"
   ]
  },
  {
   "cell_type": "code",
   "execution_count": 338,
   "metadata": {
    "scrolled": true
   },
   "outputs": [
    {
     "name": "stdout",
     "output_type": "stream",
     "text": [
      "[Train]Epoch 1 Loss 1.1310 Acc 0.59245924\n",
      "[Valid]Epoch 1 Loss 1.1952 Acc 0.5682\n",
      "Time taken for 1 epoch 24.520047187805176 sec\n",
      "\n",
      "[Train]Epoch 2 Loss 1.1260 Acc 0.59365936\n",
      "[Valid]Epoch 2 Loss 1.1945 Acc 0.5694\n",
      "Time taken for 1 epoch 24.458360195159912 sec\n",
      "\n",
      "[Train]Epoch 3 Loss 1.1239 Acc 0.59495950\n",
      "[Valid]Epoch 3 Loss 1.1941 Acc 0.5702\n",
      "Time taken for 1 epoch 22.803431272506714 sec\n",
      "\n",
      "[Train]Epoch 4 Loss 1.1188 Acc 0.59685967\n",
      "[Valid]Epoch 4 Loss 1.1940 Acc 0.5699\n",
      "Time taken for 1 epoch 24.27971339225769 sec\n",
      "\n",
      "[Train]Epoch 5 Loss 1.1150 Acc 0.59795979\n",
      "[Valid]Epoch 5 Loss 1.1931 Acc 0.5701\n",
      "Time taken for 1 epoch 23.123388290405273 sec\n",
      "\n",
      "[Train]Epoch 6 Loss 1.1128 Acc 0.59935993\n",
      "[Valid]Epoch 6 Loss 1.1934 Acc 0.5697\n",
      "Time taken for 1 epoch 24.417149782180786 sec\n",
      "\n",
      "[Train]Epoch 7 Loss 1.1140 Acc 0.59885988\n",
      "[Valid]Epoch 7 Loss 1.1923 Acc 0.5704\n",
      "Time taken for 1 epoch 22.973780155181885 sec\n",
      "\n",
      "[Train]Epoch 8 Loss 1.1105 Acc 0.60046003\n",
      "[Valid]Epoch 8 Loss 1.1935 Acc 0.5706\n",
      "Time taken for 1 epoch 24.700142860412598 sec\n",
      "\n",
      "[Train]Epoch 9 Loss 1.1106 Acc 0.60136013\n",
      "[Valid]Epoch 9 Loss 1.1930 Acc 0.5702\n",
      "Time taken for 1 epoch 22.827256679534912 sec\n",
      "\n",
      "[Train]Epoch 10 Loss 1.1057 Acc 0.60216021\n",
      "[Valid]Epoch 10 Loss 1.1929 Acc 0.5708\n",
      "Time taken for 1 epoch 24.310434818267822 sec\n",
      "\n"
     ]
    }
   ],
   "source": [
    "# set the epochs for training\n",
    "EPOCHS = 10\n",
    "total_loss = tf.keras.metrics.Mean()\n",
    "total_accuracy = tf.keras.metrics.Mean()\n",
    "total_val_loss = tf.keras.metrics.Mean()\n",
    "total_val_accuracy = tf.keras.metrics.Mean()\n",
    "for epoch in range(EPOCHS):\n",
    "    start = time.time()\n",
    "\n",
    "    # get the initial hidden state of gru\n",
    "    enc_hidden = encoder.initialize_hidden_state()\n",
    "    total_loss.reset_states()\n",
    "    total_accuracy.reset_states()\n",
    "\n",
    "    for (batch, (inp, targ)) in enumerate(train_dataset.take(resampled_steps_per_epoch)):\n",
    "        batch_loss, pred = train_step(inp, targ, enc_hidden)\n",
    "        total_loss(batch_loss)\n",
    "        total_accuracy(tf.cast(tf.math.equal(tf.argmax(pred, axis=-1), tf.argmax(targ, axis=-1)), dtype=tf.int32))\n",
    "\n",
    "        if batch % 10 == 0:\n",
    "            print(f'Epoch {epoch + 1} Batch {batch} Loss {total_loss.result().numpy():.4f} Acc {total_accuracy.result().numpy():.4f}', end='\\r')\n",
    "\n",
    "    # saving (checkpoint) the model every 2 epochs\n",
    "    if (epoch + 1) % 2 == 0:\n",
    "        checkpoint.save(file_prefix=checkpoint_prefix)\n",
    "    \n",
    "    total_val_accuracy.reset_states()\n",
    "    total_val_loss.reset_states()\n",
    "    enc_hidden = encoder.initialize_hidden_state()\n",
    "    for (batch, (inp, targ)) in enumerate(val_dataset):\n",
    "        y_pred, _ = test_step(inp, enc_hidden)\n",
    "        total_val_accuracy(tf.cast(tf.math.equal(tf.argmax(y_pred, axis=-1), tf.argmax(targ, axis=-1)), dtype=tf.int32))\n",
    "        total_val_loss(loss_function(tf.cast(targ ,dtype=tf.float32), y_pred))\n",
    "    \n",
    "    log.append([total_loss.result().numpy(),\n",
    "                total_accuracy.result().numpy(),\n",
    "                total_val_loss.result().numpy(),\n",
    "                total_val_accuracy.result().numpy()])\n",
    "    \n",
    "    print(f'[Train]Epoch {epoch + 1} Loss {total_loss.result().numpy():.4f} Acc {total_accuracy.result().numpy():6.4f}')\n",
    "    print(f'[Valid]Epoch {epoch + 1} Loss {total_val_loss.result().numpy():.4f} Acc {total_val_accuracy.result().numpy():6.4f}')\n",
    "    print('Time taken for 1 epoch {} sec\\n'.format(time.time() - start))"
   ]
  },
  {
   "cell_type": "markdown",
   "metadata": {},
   "source": [
    "After training about 30 epochs, the model reached a stable loss/accuracy, so I stop the training stage."
   ]
  },
  {
   "cell_type": "code",
   "execution_count": 339,
   "metadata": {},
   "outputs": [
    {
     "data": {
      "text/plain": [
       "<matplotlib.legend.Legend at 0x7f2c3661aca0>"
      ]
     },
     "execution_count": 339,
     "metadata": {},
     "output_type": "execute_result"
    },
    {
     "data": {
      "image/png": "[encoded data removed]",
      "text/plain": [
       "<Figure size 432x288 with 1 Axes>"
      ]
     },
     "metadata": {
      "needs_background": "light"
     },
     "output_type": "display_data"
    }
   ],
   "source": [
    "import matplotlib.pyplot as plt\n",
    "loss = [v[0] for v in log]\n",
    "acc = [v[1] for v in log]\n",
    "val_loss = [v[2] for v in log]\n",
    "val_acc = [v[3] for v in log]\n",
    "plt.plot(acc)\n",
    "plt.plot(val_acc)\n",
    "plt.legend(['acc', 'val_acc'])"
   ]
  },
  {
   "cell_type": "code",
   "execution_count": 340,
   "metadata": {
    "scrolled": true
   },
   "outputs": [
    {
     "data": {
      "text/plain": [
       "<matplotlib.legend.Legend at 0x7f2fad2ba370>"
      ]
     },
     "execution_count": 340,
     "metadata": {},
     "output_type": "execute_result"
    },
    {
     "data": {
      "image/png": "[encoded data removed]",
      "text/plain": [
       "<Figure size 432x288 with 1 Axes>"
      ]
     },
     "metadata": {
      "needs_background": "light"
     },
     "output_type": "display_data"
    }
   ],
   "source": [
    "plt.plot(loss)\n",
    "plt.plot(val_loss)\n",
    "plt.legend(['loss', 'val_loss'])"
   ]
  },
  {
   "cell_type": "markdown",
   "metadata": {},
   "source": [
    "This block is used to restore the latest checkpoint for futher training or evaluation."
   ]
  },
  {
   "cell_type": "code",
   "execution_count": null,
   "metadata": {},
   "outputs": [],
   "source": [
    "print(tf.train.latest_checkpoint(checkpoint_dir))\n",
    "# restoring the latest checkpoint in checkpoint_dir\n",
    "checkpoint.restore(tf.train.latest_checkpoint(checkpoint_dir))"
   ]
  },
  {
   "cell_type": "markdown",
   "metadata": {},
   "source": [
    "### Evaluation"
   ]
  },
  {
   "cell_type": "code",
   "execution_count": 332,
   "metadata": {
    "scrolled": false
   },
   "outputs": [],
   "source": [
    "@tf.function\n",
    "def test_step(inp, enc_hidden):\n",
    "    with tf.GradientTape() as tape:\n",
    "        enc_output, enc_hidden = encoder(inp, enc_hidden)\n",
    "        predictions, attention_weights = decoder(enc_output)\n",
    "    return predictions, attention_weights\n",
    "def evaluate(test_data):\n",
    "    enc_hidden = encoder.initialize_hidden_state()\n",
    "    \n",
    "    for batch, (inp, targ) in enumerate(test_data):\n",
    "        if len(inp) != BATCH_SIZE:\n",
    "            enc_hidden = tf.zeros((len(inp), units))\n",
    "        # make prediction\n",
    "        if batch == 0:\n",
    "            predictions, attention_weights = test_step(inp, enc_hidden)\n",
    "            predictions, attention_weights = predictions.numpy(), attention_weights.numpy()\n",
    "        else:\n",
    "            _predictions, _attention_weights = test_step(inp, enc_hidden)\n",
    "            _predictions, _attention_weights = _predictions.numpy(), _attention_weights.numpy()\n",
    "            print(_predictions)\n",
    "            predictions = np.concatenate((predictions, _predictions))\n",
    "            attention_weights = np.concatenate((attention_weights, _attention_weights))\n",
    "    \n",
    "    predictions = np.squeeze(predictions)\n",
    "    attention_weights = np.squeeze(attention_weights)\n",
    "\n",
    "    return predictions, attention_weights\n",
    "\n",
    "def direct_evaluate(test_data, have_y=True):\n",
    "    enc_hidden = encoder.initialize_hidden_state()\n",
    "\n",
    "    for batch, data in enumerate(test_data):\n",
    "        if have_y:\n",
    "            (inp, targ) = data\n",
    "        else:\n",
    "            inp = data\n",
    "        if len(inp) != BATCH_SIZE:\n",
    "            enc_hidden = tf.zeros((len(inp), units))\n",
    "        # make prediction\n",
    "        if batch == 0:\n",
    "            predictions, attention_weights = test_step(inp, enc_hidden)\n",
    "            predictions, attention_weights = predictions.numpy(), attention_weights.numpy()\n",
    "            classes_pred = np.argmax(predictions, axis=1)\n",
    "            confs = np.max(tf.math.softmax(predictions), axis=1)\n",
    "        else:\n",
    "            predictions, attention_weights = test_step(inp, enc_hidden)\n",
    "            predictions, attention_weights = predictions.numpy(), attention_weights.numpy()\n",
    "            _classes_pred = np.argmax(predictions, axis=1)\n",
    "            _confs = np.max(tf.math.softmax(predictions), axis=1)\n",
    "            classes_pred = np.concatenate((classes_pred, _classes_pred))\n",
    "            confs = np.concatenate((confs, _confs))\n",
    "        print(f'evaluate {batch+1}/{len(test_data)}, {len(classes_pred)}', end='\\r')\n",
    "    return classes_pred, confs\n"
   ]
  },
  {
   "cell_type": "code",
   "execution_count": 341,
   "metadata": {},
   "outputs": [
    {
     "name": "stdout",
     "output_type": "stream",
     "text": [
      "Accuracy: 138/1138, 291113 0.5703386657414818\n"
     ]
    }
   ],
   "source": [
    "y_pred, confs = direct_evaluate(test_dataset)\n",
    "print('Accuracy: ', np.sum((y_pred == np.argmax(y_test[:len(y_pred)], axis=1))) / len(y_pred))"
   ]
  },
  {
   "cell_type": "markdown",
   "metadata": {},
   "source": [
    "The accuracy of this model in test dataset is about 0.57, but when I submit the whole prediction to kaggle, the accuracy dropped down by about 10 percent to 0.46. I might becouse the size of kaggle testing set is larger (411972 records) then my testing dataset(291113 records). But the accuracy dropped more then my expection, and this phenomenon happend in all my models' predictions, but I actually have no idea about this phenomenon."
   ]
  },
  {
   "cell_type": "code",
   "execution_count": 310,
   "metadata": {},
   "outputs": [
    {
     "name": "stdout",
     "output_type": "stream",
     "text": [
      "[[-1.9129748   1.5151832  -0.81625646 ... -0.2113112  -0.69584554\n",
      "   0.99583757]\n",
      " [-2.3621933   0.7563931  -0.49146    ... -0.25605547 -1.0141022\n",
      "   1.4187769 ]\n",
      " [-0.43325156  1.5299046  -2.0838528  ... -2.028525   -3.5406783\n",
      "  -0.3163751 ]\n",
      " ...\n",
      " [-0.1897125  -0.508383    1.8668121  ...  1.5742817  -0.24298197\n",
      "  -1.0779581 ]\n",
      " [-1.3331293  -0.27787232  3.6830027  ...  1.1604054   0.447672\n",
      "   0.34599385]\n",
      " [ 0.01903293 -0.7510221   0.92993027 ...  1.2379054  -0.885535\n",
      "  -0.2781862 ]]\n"
     ]
    }
   ],
   "source": [
    "predictions, weights = evaluate(test_dataset.take(2))"
   ]
  },
  {
   "cell_type": "code",
   "execution_count": 110,
   "metadata": {},
   "outputs": [
    {
     "data": {
      "text/plain": [
       "(512, 8, 100)"
      ]
     },
     "execution_count": 110,
     "metadata": {},
     "output_type": "execute_result"
    }
   ],
   "source": [
    "weights.shape"
   ]
  },
  {
   "cell_type": "code",
   "execution_count": 342,
   "metadata": {},
   "outputs": [
    {
     "name": "stdout",
     "output_type": "stream",
     "text": [
      "[[ 1953   408  1501    98  1946  1827    32   181]\n",
      " [  126 29318  1506   477 13503  2752   156  2146]\n",
      " [  350  1134 12242   431  6037  6628   199   648]\n",
      " [   55  1017   818  5317  3790  1447    82   320]\n",
      " [  196  7376  2844   885 81563  4980   307  4792]\n",
      " [  325  1818  5649   634  9587 19540   265   927]\n",
      " [   53   610  1300   210  3457  1815  2084   287]\n",
      " [   64  4311  1291   350 18908  2118   106 14016]]\n"
     ]
    }
   ],
   "source": [
    "## check by confusion matrix\n",
    "from sklearn.metrics import confusion_matrix\n",
    "\n",
    "cm = confusion_matrix(y_true=np.argmax(y_test[:len(y_pred)], axis=1), y_pred=y_pred) \n",
    "print(cm)"
   ]
  },
  {
   "cell_type": "code",
   "execution_count": 214,
   "metadata": {},
   "outputs": [],
   "source": [
    "import seaborn as sns\n",
    "import numpy as np\n",
    "import itertools\n",
    "\n",
    "def plot_confusion_matrix(cm, classes, title='Confusion matrix',\n",
    "                          cmap=sns.cubehelix_palette(as_cmap=True)):\n",
    "    \"\"\"\n",
    "    This function is modified from: \n",
    "    http://scikit-learn.org/stable/auto_examples/model_selection/plot_confusion_matrix.html\n",
    "    \"\"\"\n",
    "    classes.sort()\n",
    "    tick_marks = np.arange(len(classes))    \n",
    "    \n",
    "    fig, ax = plt.subplots(figsize=(10,10))\n",
    "    im = ax.imshow(cm, interpolation='nearest', cmap=cmap)\n",
    "    ax.figure.colorbar(im, ax=ax)\n",
    "    ax.set(xticks=np.arange(cm.shape[1]),\n",
    "           yticks=np.arange(cm.shape[0]),\n",
    "           xticklabels = classes,\n",
    "           yticklabels = classes,\n",
    "           title = title,\n",
    "           xlabel = 'True label',\n",
    "           ylabel = 'Predicted label')\n",
    "\n",
    "    fmt = 'd'\n",
    "    thresh = cm.max() / 2.\n",
    "    for i, j in itertools.product(range(cm.shape[0]), range(cm.shape[1])):\n",
    "        plt.text(j, i, format(cm[i, j], fmt), horizontalalignment=\"center\", color=\"white\" if cm[i, j] > thresh else \"black\")\n",
    "    ylim_top = len(classes) - 0.5\n",
    "    plt.ylim([ylim_top, -.5])\n",
    "    plt.tight_layout()\n",
    "    plt.show()"
   ]
  },
  {
   "cell_type": "code",
   "execution_count": 343,
   "metadata": {
    "scrolled": false
   },
   "outputs": [
    {
     "data": {
      "image/png": "[encoded data removed]",
      "text/plain": [
       "<Figure size 720x720 with 2 Axes>"
      ]
     },
     "metadata": {
      "needs_background": "light"
     },
     "output_type": "display_data"
    }
   ],
   "source": [
    "plot_confusion_matrix(cm, label.classes_, title='Confusion matrix')"
   ]
  },
  {
   "cell_type": "markdown",
   "metadata": {},
   "source": [
    "Plotting the confusion matrix, I find that the `joy` class dominate the whole dataset, so the model tend to predict most of the record as joy emotion. Lots of records in classes like trust and anticipation predicted as joy, this may be the reason that the model has a poor performance. "
   ]
  },
  {
   "cell_type": "markdown",
   "metadata": {},
   "source": [
    "## Generate Output"
   ]
  },
  {
   "cell_type": "code",
   "execution_count": null,
   "metadata": {
    "scrolled": true
   },
   "outputs": [],
   "source": [
    "tweets_test['text_tokenized'] = tweets_test['text'].apply(lambda x: nltk.word_tokenize(preprocess_text(x)))\n",
    "X_out = text_to_index(tweets_test['text_tokenized'])\n",
    "X_out = tf.keras.preprocessing.sequence.pad_sequences(X_out, maxlen=max_length)"
   ]
  },
  {
   "cell_type": "code",
   "execution_count": 316,
   "metadata": {},
   "outputs": [
    {
     "data": {
      "text/plain": [
       "411972"
      ]
     },
     "execution_count": 316,
     "metadata": {},
     "output_type": "execute_result"
    }
   ],
   "source": [
    "len(tweets_test)"
   ]
  },
  {
   "cell_type": "code",
   "execution_count": 317,
   "metadata": {},
   "outputs": [],
   "source": [
    "dataset_evaluate = tf.data.Dataset.from_tensor_slices(X_out)\n",
    "dataset_evaluate = dataset_evaluate.batch(BATCH_SIZE, drop_remainder=False)"
   ]
  },
  {
   "cell_type": "code",
   "execution_count": 318,
   "metadata": {},
   "outputs": [
    {
     "data": {
      "text/plain": [
       "1610"
      ]
     },
     "execution_count": 318,
     "metadata": {},
     "output_type": "execute_result"
    }
   ],
   "source": [
    "len(dataset_evaluate)"
   ]
  },
  {
   "cell_type": "code",
   "execution_count": 344,
   "metadata": {},
   "outputs": [
    {
     "name": "stdout",
     "output_type": "stream",
     "text": [
      "evaluate 1610/1610, 411972\r"
     ]
    }
   ],
   "source": [
    "y_pred, confs = direct_evaluate(dataset_evaluate, have_y=False)"
   ]
  },
  {
   "cell_type": "code",
   "execution_count": 345,
   "metadata": {},
   "outputs": [],
   "source": [
    "df_ids = pd.DataFrame(tweets_test['tweet_id'])\n",
    "df_ids = df_ids.rename(columns={'tweet_id': 'id'})\n",
    "df_ids['emotion'] = label.classes_[y_pred]\n",
    "df_ids['confidence'] = confs\n"
   ]
  },
  {
   "cell_type": "code",
   "execution_count": 346,
   "metadata": {},
   "outputs": [
    {
     "data": {
      "text/plain": [
       "joy             185966\n",
       "sadness          77486\n",
       "disgust          56389\n",
       "anticipation     49017\n",
       "trust            25918\n",
       "fear              9763\n",
       "anger             4430\n",
       "surprise          3003\n",
       "Name: emotion, dtype: int64"
      ]
     },
     "execution_count": 346,
     "metadata": {},
     "output_type": "execute_result"
    }
   ],
   "source": [
    "df_ids['emotion'].value_counts()"
   ]
  },
  {
   "cell_type": "code",
   "execution_count": 347,
   "metadata": {},
   "outputs": [
    {
     "data": {
      "text/html": [
       "<div>\n",
       "<style scoped>\n",
       "    .dataframe tbody tr th:only-of-type {\n",
       "        vertical-align: middle;\n",
       "    }\n",
       "\n",
       "    .dataframe tbody tr th {\n",
       "        vertical-align: top;\n",
       "    }\n",
       "\n",
       "    .dataframe thead th {\n",
       "        text-align: right;\n",
       "    }\n",
       "</style>\n",
       "<table border=\"1\" class=\"dataframe\">\n",
       "  <thead>\n",
       "    <tr style=\"text-align: right;\">\n",
       "      <th></th>\n",
       "      <th>id</th>\n",
       "      <th>emotion</th>\n",
       "      <th>confidence</th>\n",
       "    </tr>\n",
       "  </thead>\n",
       "  <tbody>\n",
       "    <tr>\n",
       "      <th>2</th>\n",
       "      <td>0x28b412</td>\n",
       "      <td>anticipation</td>\n",
       "      <td>0.598450</td>\n",
       "    </tr>\n",
       "    <tr>\n",
       "      <th>4</th>\n",
       "      <td>0x2de201</td>\n",
       "      <td>anticipation</td>\n",
       "      <td>0.730368</td>\n",
       "    </tr>\n",
       "    <tr>\n",
       "      <th>9</th>\n",
       "      <td>0x218443</td>\n",
       "      <td>joy</td>\n",
       "      <td>0.613454</td>\n",
       "    </tr>\n",
       "    <tr>\n",
       "      <th>30</th>\n",
       "      <td>0x2939d5</td>\n",
       "      <td>joy</td>\n",
       "      <td>0.629412</td>\n",
       "    </tr>\n",
       "    <tr>\n",
       "      <th>33</th>\n",
       "      <td>0x26289a</td>\n",
       "      <td>trust</td>\n",
       "      <td>0.871999</td>\n",
       "    </tr>\n",
       "    <tr>\n",
       "      <th>...</th>\n",
       "      <td>...</td>\n",
       "      <td>...</td>\n",
       "      <td>...</td>\n",
       "    </tr>\n",
       "    <tr>\n",
       "      <th>1867525</th>\n",
       "      <td>0x2913b4</td>\n",
       "      <td>anticipation</td>\n",
       "      <td>0.789367</td>\n",
       "    </tr>\n",
       "    <tr>\n",
       "      <th>1867529</th>\n",
       "      <td>0x2a980e</td>\n",
       "      <td>anticipation</td>\n",
       "      <td>0.633379</td>\n",
       "    </tr>\n",
       "    <tr>\n",
       "      <th>1867530</th>\n",
       "      <td>0x316b80</td>\n",
       "      <td>sadness</td>\n",
       "      <td>0.323782</td>\n",
       "    </tr>\n",
       "    <tr>\n",
       "      <th>1867531</th>\n",
       "      <td>0x29d0cb</td>\n",
       "      <td>joy</td>\n",
       "      <td>0.548834</td>\n",
       "    </tr>\n",
       "    <tr>\n",
       "      <th>1867532</th>\n",
       "      <td>0x2a6a4f</td>\n",
       "      <td>sadness</td>\n",
       "      <td>0.466305</td>\n",
       "    </tr>\n",
       "  </tbody>\n",
       "</table>\n",
       "<p>411972 rows × 3 columns</p>\n",
       "</div>"
      ],
      "text/plain": [
       "               id       emotion  confidence\n",
       "2        0x28b412  anticipation    0.598450\n",
       "4        0x2de201  anticipation    0.730368\n",
       "9        0x218443           joy    0.613454\n",
       "30       0x2939d5           joy    0.629412\n",
       "33       0x26289a         trust    0.871999\n",
       "...           ...           ...         ...\n",
       "1867525  0x2913b4  anticipation    0.789367\n",
       "1867529  0x2a980e  anticipation    0.633379\n",
       "1867530  0x316b80       sadness    0.323782\n",
       "1867531  0x29d0cb           joy    0.548834\n",
       "1867532  0x2a6a4f       sadness    0.466305\n",
       "\n",
       "[411972 rows x 3 columns]"
      ]
     },
     "execution_count": 347,
     "metadata": {},
     "output_type": "execute_result"
    }
   ],
   "source": [
    "df_ids"
   ]
  },
  {
   "cell_type": "code",
   "execution_count": 348,
   "metadata": {},
   "outputs": [],
   "source": [
    "df_ids.to_csv('./output.csv', index=False, columns=['id', 'emotion'])"
   ]
  },
  {
   "cell_type": "code",
   "execution_count": 99,
   "metadata": {},
   "outputs": [
    {
     "data": {
      "text/plain": [
       "array([0, 0, 0, 0, 0, 0, 0, 0, 0, 0, 0, 0, 0, 0, 0, 0, 0, 0, 0, 0, 0, 0,\n",
       "       0, 0, 0, 0, 0, 0, 0, 0, 0, 0, 0, 0, 0, 0, 0, 0, 0, 0, 0, 0, 0, 0,\n",
       "       0, 0, 0, 0, 0, 0, 0, 0, 0, 0, 0, 0, 0, 0, 0, 0, 0, 0, 0, 0, 0, 0,\n",
       "       0, 0, 0, 0, 0, 0, 0, 0, 0, 0, 0, 0, 0, 0, 0, 0, 0, 0, 0, 0, 0, 0,\n",
       "       0, 0, 0, 0, 0, 0, 0, 0, 0, 0, 0, 0], dtype=int32)"
      ]
     },
     "execution_count": 99,
     "metadata": {},
     "output_type": "execute_result"
    }
   ],
   "source": [
    "X_test[10]"
   ]
  },
  {
   "cell_type": "code",
   "execution_count": null,
   "metadata": {},
   "outputs": [],
   "source": []
  }
 ],
 "metadata": {
  "kernelspec": {
   "display_name": "python3.7 with tensorflow",
   "language": "python",
   "name": "tf"
  },
  "language_info": {
   "codemirror_mode": {
    "name": "ipython",
    "version": 3
   },
   "file_extension": ".py",
   "mimetype": "text/x-python",
   "name": "python",
   "nbconvert_exporter": "python",
   "pygments_lexer": "ipython3",
   "version": "3.7.9"
  }
 },
 "nbformat": 4,
 "nbformat_minor": 4
}
